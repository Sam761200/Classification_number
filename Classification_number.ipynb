{
  "nbformat": 4,
  "nbformat_minor": 0,
  "metadata": {
    "colab": {
      "provenance": []
    },
    "kernelspec": {
      "name": "python3",
      "display_name": "Python 3"
    },
    "language_info": {
      "name": "python"
    }
  },
  "cells": [
    {
      "cell_type": "code",
      "execution_count": 1,
      "metadata": {
        "colab": {
          "base_uri": "https://localhost:8080/"
        },
        "id": "vW2b415-NSqV",
        "outputId": "9490130f-1b9b-4b47-8cf5-a75d7c91666c"
      },
      "outputs": [
        {
          "output_type": "stream",
          "name": "stdout",
          "text": [
            "Requirement already satisfied: torch in /usr/local/lib/python3.10/dist-packages (2.3.1+cu121)\n",
            "Requirement already satisfied: torchvision in /usr/local/lib/python3.10/dist-packages (0.18.1+cu121)\n",
            "Requirement already satisfied: filelock in /usr/local/lib/python3.10/dist-packages (from torch) (3.15.4)\n",
            "Requirement already satisfied: typing-extensions>=4.8.0 in /usr/local/lib/python3.10/dist-packages (from torch) (4.12.2)\n",
            "Requirement already satisfied: sympy in /usr/local/lib/python3.10/dist-packages (from torch) (1.13.1)\n",
            "Requirement already satisfied: networkx in /usr/local/lib/python3.10/dist-packages (from torch) (3.3)\n",
            "Requirement already satisfied: jinja2 in /usr/local/lib/python3.10/dist-packages (from torch) (3.1.4)\n",
            "Requirement already satisfied: fsspec in /usr/local/lib/python3.10/dist-packages (from torch) (2024.6.1)\n",
            "Collecting nvidia-cuda-nvrtc-cu12==12.1.105 (from torch)\n",
            "  Using cached nvidia_cuda_nvrtc_cu12-12.1.105-py3-none-manylinux1_x86_64.whl.metadata (1.5 kB)\n",
            "Collecting nvidia-cuda-runtime-cu12==12.1.105 (from torch)\n",
            "  Using cached nvidia_cuda_runtime_cu12-12.1.105-py3-none-manylinux1_x86_64.whl.metadata (1.5 kB)\n",
            "Collecting nvidia-cuda-cupti-cu12==12.1.105 (from torch)\n",
            "  Using cached nvidia_cuda_cupti_cu12-12.1.105-py3-none-manylinux1_x86_64.whl.metadata (1.6 kB)\n",
            "Collecting nvidia-cudnn-cu12==8.9.2.26 (from torch)\n",
            "  Using cached nvidia_cudnn_cu12-8.9.2.26-py3-none-manylinux1_x86_64.whl.metadata (1.6 kB)\n",
            "Collecting nvidia-cublas-cu12==12.1.3.1 (from torch)\n",
            "  Using cached nvidia_cublas_cu12-12.1.3.1-py3-none-manylinux1_x86_64.whl.metadata (1.5 kB)\n",
            "Collecting nvidia-cufft-cu12==11.0.2.54 (from torch)\n",
            "  Using cached nvidia_cufft_cu12-11.0.2.54-py3-none-manylinux1_x86_64.whl.metadata (1.5 kB)\n",
            "Collecting nvidia-curand-cu12==10.3.2.106 (from torch)\n",
            "  Using cached nvidia_curand_cu12-10.3.2.106-py3-none-manylinux1_x86_64.whl.metadata (1.5 kB)\n",
            "Collecting nvidia-cusolver-cu12==11.4.5.107 (from torch)\n",
            "  Using cached nvidia_cusolver_cu12-11.4.5.107-py3-none-manylinux1_x86_64.whl.metadata (1.6 kB)\n",
            "Collecting nvidia-cusparse-cu12==12.1.0.106 (from torch)\n",
            "  Using cached nvidia_cusparse_cu12-12.1.0.106-py3-none-manylinux1_x86_64.whl.metadata (1.6 kB)\n",
            "Collecting nvidia-nccl-cu12==2.20.5 (from torch)\n",
            "  Using cached nvidia_nccl_cu12-2.20.5-py3-none-manylinux2014_x86_64.whl.metadata (1.8 kB)\n",
            "Collecting nvidia-nvtx-cu12==12.1.105 (from torch)\n",
            "  Using cached nvidia_nvtx_cu12-12.1.105-py3-none-manylinux1_x86_64.whl.metadata (1.7 kB)\n",
            "Requirement already satisfied: triton==2.3.1 in /usr/local/lib/python3.10/dist-packages (from torch) (2.3.1)\n",
            "Collecting nvidia-nvjitlink-cu12 (from nvidia-cusolver-cu12==11.4.5.107->torch)\n",
            "  Using cached nvidia_nvjitlink_cu12-12.6.20-py3-none-manylinux2014_x86_64.whl.metadata (1.5 kB)\n",
            "Requirement already satisfied: numpy in /usr/local/lib/python3.10/dist-packages (from torchvision) (1.26.4)\n",
            "Requirement already satisfied: pillow!=8.3.*,>=5.3.0 in /usr/local/lib/python3.10/dist-packages (from torchvision) (9.4.0)\n",
            "Requirement already satisfied: MarkupSafe>=2.0 in /usr/local/lib/python3.10/dist-packages (from jinja2->torch) (2.1.5)\n",
            "Requirement already satisfied: mpmath<1.4,>=1.1.0 in /usr/local/lib/python3.10/dist-packages (from sympy->torch) (1.3.0)\n",
            "Using cached nvidia_cublas_cu12-12.1.3.1-py3-none-manylinux1_x86_64.whl (410.6 MB)\n",
            "Using cached nvidia_cuda_cupti_cu12-12.1.105-py3-none-manylinux1_x86_64.whl (14.1 MB)\n",
            "Using cached nvidia_cuda_nvrtc_cu12-12.1.105-py3-none-manylinux1_x86_64.whl (23.7 MB)\n",
            "Using cached nvidia_cuda_runtime_cu12-12.1.105-py3-none-manylinux1_x86_64.whl (823 kB)\n",
            "Using cached nvidia_cudnn_cu12-8.9.2.26-py3-none-manylinux1_x86_64.whl (731.7 MB)\n",
            "Using cached nvidia_cufft_cu12-11.0.2.54-py3-none-manylinux1_x86_64.whl (121.6 MB)\n",
            "Using cached nvidia_curand_cu12-10.3.2.106-py3-none-manylinux1_x86_64.whl (56.5 MB)\n",
            "Using cached nvidia_cusolver_cu12-11.4.5.107-py3-none-manylinux1_x86_64.whl (124.2 MB)\n",
            "Using cached nvidia_cusparse_cu12-12.1.0.106-py3-none-manylinux1_x86_64.whl (196.0 MB)\n",
            "Using cached nvidia_nccl_cu12-2.20.5-py3-none-manylinux2014_x86_64.whl (176.2 MB)\n",
            "Using cached nvidia_nvtx_cu12-12.1.105-py3-none-manylinux1_x86_64.whl (99 kB)\n",
            "Using cached nvidia_nvjitlink_cu12-12.6.20-py3-none-manylinux2014_x86_64.whl (19.7 MB)\n",
            "Installing collected packages: nvidia-nvtx-cu12, nvidia-nvjitlink-cu12, nvidia-nccl-cu12, nvidia-curand-cu12, nvidia-cufft-cu12, nvidia-cuda-runtime-cu12, nvidia-cuda-nvrtc-cu12, nvidia-cuda-cupti-cu12, nvidia-cublas-cu12, nvidia-cusparse-cu12, nvidia-cudnn-cu12, nvidia-cusolver-cu12\n",
            "Successfully installed nvidia-cublas-cu12-12.1.3.1 nvidia-cuda-cupti-cu12-12.1.105 nvidia-cuda-nvrtc-cu12-12.1.105 nvidia-cuda-runtime-cu12-12.1.105 nvidia-cudnn-cu12-8.9.2.26 nvidia-cufft-cu12-11.0.2.54 nvidia-curand-cu12-10.3.2.106 nvidia-cusolver-cu12-11.4.5.107 nvidia-cusparse-cu12-12.1.0.106 nvidia-nccl-cu12-2.20.5 nvidia-nvjitlink-cu12-12.6.20 nvidia-nvtx-cu12-12.1.105\n"
          ]
        }
      ],
      "source": [
        "!pip install torch torchvision\n"
      ]
    },
    {
      "cell_type": "code",
      "source": [
        "import torch\n",
        "import torch.nn as nn\n",
        "import torch.optim as optim\n",
        "import torchvision\n",
        "import torchvision.transforms as transforms\n",
        "\n",
        "# Transformation des données en tensors et normalisation\n",
        "transform = transforms.Compose([\n",
        "    transforms.ToTensor(),\n",
        "    transforms.Normalize((0.5,), (0.5,))\n",
        "])\n",
        "\n",
        "# Charger les datasets de train et de test\n",
        "trainset = torchvision.datasets.MNIST(root='./data', train=True, download=True, transform=transform)\n",
        "trainloader = torch.utils.data.DataLoader(trainset, batch_size=32, shuffle=True)\n",
        "\n",
        "testset = torchvision.datasets.MNIST(root='./data', train=False, download=True, transform=transform)\n",
        "testloader = torch.utils.data.DataLoader(testset, batch_size=32, shuffle=False)\n"
      ],
      "metadata": {
        "colab": {
          "base_uri": "https://localhost:8080/"
        },
        "id": "OXznfQ1ZNb_E",
        "outputId": "e6950d00-afb2-4333-c73b-b0eaa2a50fd4"
      },
      "execution_count": 2,
      "outputs": [
        {
          "output_type": "stream",
          "name": "stdout",
          "text": [
            "Downloading http://yann.lecun.com/exdb/mnist/train-images-idx3-ubyte.gz\n",
            "Failed to download (trying next):\n",
            "HTTP Error 403: Forbidden\n",
            "\n",
            "Downloading https://ossci-datasets.s3.amazonaws.com/mnist/train-images-idx3-ubyte.gz\n",
            "Downloading https://ossci-datasets.s3.amazonaws.com/mnist/train-images-idx3-ubyte.gz to ./data/MNIST/raw/train-images-idx3-ubyte.gz\n"
          ]
        },
        {
          "output_type": "stream",
          "name": "stderr",
          "text": [
            "100%|██████████| 9912422/9912422 [00:00<00:00, 11518620.29it/s]\n"
          ]
        },
        {
          "output_type": "stream",
          "name": "stdout",
          "text": [
            "Extracting ./data/MNIST/raw/train-images-idx3-ubyte.gz to ./data/MNIST/raw\n",
            "\n",
            "Downloading http://yann.lecun.com/exdb/mnist/train-labels-idx1-ubyte.gz\n",
            "Failed to download (trying next):\n",
            "HTTP Error 403: Forbidden\n",
            "\n",
            "Downloading https://ossci-datasets.s3.amazonaws.com/mnist/train-labels-idx1-ubyte.gz\n",
            "Downloading https://ossci-datasets.s3.amazonaws.com/mnist/train-labels-idx1-ubyte.gz to ./data/MNIST/raw/train-labels-idx1-ubyte.gz\n"
          ]
        },
        {
          "output_type": "stream",
          "name": "stderr",
          "text": [
            "100%|██████████| 28881/28881 [00:00<00:00, 347203.11it/s]\n"
          ]
        },
        {
          "output_type": "stream",
          "name": "stdout",
          "text": [
            "Extracting ./data/MNIST/raw/train-labels-idx1-ubyte.gz to ./data/MNIST/raw\n",
            "\n",
            "Downloading http://yann.lecun.com/exdb/mnist/t10k-images-idx3-ubyte.gz\n",
            "Failed to download (trying next):\n",
            "HTTP Error 403: Forbidden\n",
            "\n",
            "Downloading https://ossci-datasets.s3.amazonaws.com/mnist/t10k-images-idx3-ubyte.gz\n",
            "Downloading https://ossci-datasets.s3.amazonaws.com/mnist/t10k-images-idx3-ubyte.gz to ./data/MNIST/raw/t10k-images-idx3-ubyte.gz\n"
          ]
        },
        {
          "output_type": "stream",
          "name": "stderr",
          "text": [
            "100%|██████████| 1648877/1648877 [00:00<00:00, 3170578.71it/s]\n"
          ]
        },
        {
          "output_type": "stream",
          "name": "stdout",
          "text": [
            "Extracting ./data/MNIST/raw/t10k-images-idx3-ubyte.gz to ./data/MNIST/raw\n",
            "\n",
            "Downloading http://yann.lecun.com/exdb/mnist/t10k-labels-idx1-ubyte.gz\n",
            "Failed to download (trying next):\n",
            "HTTP Error 403: Forbidden\n",
            "\n",
            "Downloading https://ossci-datasets.s3.amazonaws.com/mnist/t10k-labels-idx1-ubyte.gz\n",
            "Downloading https://ossci-datasets.s3.amazonaws.com/mnist/t10k-labels-idx1-ubyte.gz to ./data/MNIST/raw/t10k-labels-idx1-ubyte.gz\n"
          ]
        },
        {
          "output_type": "stream",
          "name": "stderr",
          "text": [
            "100%|██████████| 4542/4542 [00:00<00:00, 3311983.44it/s]"
          ]
        },
        {
          "output_type": "stream",
          "name": "stdout",
          "text": [
            "Extracting ./data/MNIST/raw/t10k-labels-idx1-ubyte.gz to ./data/MNIST/raw\n",
            "\n"
          ]
        },
        {
          "output_type": "stream",
          "name": "stderr",
          "text": [
            "\n"
          ]
        }
      ]
    },
    {
      "cell_type": "code",
      "source": [
        "class SimpleNN(nn.Module):\n",
        "    def __init__(self):\n",
        "        super(SimpleNN, self).__init__()\n",
        "        self.fc1 = nn.Linear(28*28, 128)\n",
        "        self.fc2 = nn.Linear(128, 64)\n",
        "        self.fc3 = nn.Linear(64, 10)\n",
        "\n",
        "    def forward(self, x):\n",
        "        x = x.view(-1, 28*28)  # Flatten the image\n",
        "        x = torch.relu(self.fc1(x))\n",
        "        x = torch.relu(self.fc2(x))\n",
        "        x = self.fc3(x)\n",
        "        return x\n",
        "\n",
        "model = SimpleNN()\n"
      ],
      "metadata": {
        "id": "7PixmHg1NfuN"
      },
      "execution_count": 3,
      "outputs": []
    },
    {
      "cell_type": "code",
      "source": [
        "criterion = nn.CrossEntropyLoss()\n",
        "optimizer = optim.Adam(model.parameters(), lr=0.001)\n"
      ],
      "metadata": {
        "id": "aArq-z4JNhgE"
      },
      "execution_count": 4,
      "outputs": []
    },
    {
      "cell_type": "code",
      "source": [
        "for epoch in range(5):  # Entraînons pour 5 époques\n",
        "    running_loss = 0.0\n",
        "    for i, data in enumerate(trainloader, 0):\n",
        "        inputs, labels = data\n",
        "\n",
        "        optimizer.zero_grad()  # Réinitialiser les gradients\n",
        "\n",
        "        outputs = model(inputs)  # Passer les données dans le modèle\n",
        "        loss = criterion(outputs, labels)  # Calculer la perte\n",
        "        loss.backward()  # Propagation arrière\n",
        "        optimizer.step()  # Mise à jour des poids\n",
        "\n",
        "        running_loss += loss.item()\n",
        "        if i % 100 == 99:    # Afficher les statistiques tous les 100 mini-batches\n",
        "            print(f'[Epoch {epoch + 1}, Batch {i + 1}] loss: {running_loss / 100:.3f}')\n",
        "            running_loss = 0.0\n",
        "\n",
        "print('Entraînement terminé')\n"
      ],
      "metadata": {
        "colab": {
          "base_uri": "https://localhost:8080/"
        },
        "id": "_s7kkIf5Niw4",
        "outputId": "7f98dac9-b7af-4017-e47f-a91e0e4f516e"
      },
      "execution_count": 5,
      "outputs": [
        {
          "output_type": "stream",
          "name": "stdout",
          "text": [
            "[Epoch 1, Batch 100] loss: 1.180\n",
            "[Epoch 1, Batch 200] loss: 0.501\n",
            "[Epoch 1, Batch 300] loss: 0.414\n",
            "[Epoch 1, Batch 400] loss: 0.411\n",
            "[Epoch 1, Batch 500] loss: 0.379\n",
            "[Epoch 1, Batch 600] loss: 0.369\n",
            "[Epoch 1, Batch 700] loss: 0.330\n",
            "[Epoch 1, Batch 800] loss: 0.319\n",
            "[Epoch 1, Batch 900] loss: 0.343\n",
            "[Epoch 1, Batch 1000] loss: 0.280\n",
            "[Epoch 1, Batch 1100] loss: 0.294\n",
            "[Epoch 1, Batch 1200] loss: 0.282\n",
            "[Epoch 1, Batch 1300] loss: 0.249\n",
            "[Epoch 1, Batch 1400] loss: 0.271\n",
            "[Epoch 1, Batch 1500] loss: 0.239\n",
            "[Epoch 1, Batch 1600] loss: 0.222\n",
            "[Epoch 1, Batch 1700] loss: 0.230\n",
            "[Epoch 1, Batch 1800] loss: 0.225\n",
            "[Epoch 2, Batch 100] loss: 0.195\n",
            "[Epoch 2, Batch 200] loss: 0.196\n",
            "[Epoch 2, Batch 300] loss: 0.197\n",
            "[Epoch 2, Batch 400] loss: 0.172\n",
            "[Epoch 2, Batch 500] loss: 0.173\n",
            "[Epoch 2, Batch 600] loss: 0.190\n",
            "[Epoch 2, Batch 700] loss: 0.179\n",
            "[Epoch 2, Batch 800] loss: 0.181\n",
            "[Epoch 2, Batch 900] loss: 0.180\n",
            "[Epoch 2, Batch 1000] loss: 0.182\n",
            "[Epoch 2, Batch 1100] loss: 0.177\n",
            "[Epoch 2, Batch 1200] loss: 0.168\n",
            "[Epoch 2, Batch 1300] loss: 0.174\n",
            "[Epoch 2, Batch 1400] loss: 0.166\n",
            "[Epoch 2, Batch 1500] loss: 0.156\n",
            "[Epoch 2, Batch 1600] loss: 0.154\n",
            "[Epoch 2, Batch 1700] loss: 0.147\n",
            "[Epoch 2, Batch 1800] loss: 0.167\n",
            "[Epoch 3, Batch 100] loss: 0.140\n",
            "[Epoch 3, Batch 200] loss: 0.140\n",
            "[Epoch 3, Batch 300] loss: 0.123\n",
            "[Epoch 3, Batch 400] loss: 0.128\n",
            "[Epoch 3, Batch 500] loss: 0.157\n",
            "[Epoch 3, Batch 600] loss: 0.134\n",
            "[Epoch 3, Batch 700] loss: 0.146\n",
            "[Epoch 3, Batch 800] loss: 0.159\n",
            "[Epoch 3, Batch 900] loss: 0.122\n",
            "[Epoch 3, Batch 1000] loss: 0.145\n",
            "[Epoch 3, Batch 1100] loss: 0.101\n",
            "[Epoch 3, Batch 1200] loss: 0.149\n",
            "[Epoch 3, Batch 1300] loss: 0.113\n",
            "[Epoch 3, Batch 1400] loss: 0.117\n",
            "[Epoch 3, Batch 1500] loss: 0.135\n",
            "[Epoch 3, Batch 1600] loss: 0.108\n",
            "[Epoch 3, Batch 1700] loss: 0.121\n",
            "[Epoch 3, Batch 1800] loss: 0.107\n",
            "[Epoch 4, Batch 100] loss: 0.104\n",
            "[Epoch 4, Batch 200] loss: 0.101\n",
            "[Epoch 4, Batch 300] loss: 0.120\n",
            "[Epoch 4, Batch 400] loss: 0.103\n",
            "[Epoch 4, Batch 500] loss: 0.101\n",
            "[Epoch 4, Batch 600] loss: 0.113\n",
            "[Epoch 4, Batch 700] loss: 0.101\n",
            "[Epoch 4, Batch 800] loss: 0.102\n",
            "[Epoch 4, Batch 900] loss: 0.125\n",
            "[Epoch 4, Batch 1000] loss: 0.099\n",
            "[Epoch 4, Batch 1100] loss: 0.102\n",
            "[Epoch 4, Batch 1200] loss: 0.099\n",
            "[Epoch 4, Batch 1300] loss: 0.120\n",
            "[Epoch 4, Batch 1400] loss: 0.109\n",
            "[Epoch 4, Batch 1500] loss: 0.102\n",
            "[Epoch 4, Batch 1600] loss: 0.120\n",
            "[Epoch 4, Batch 1700] loss: 0.118\n",
            "[Epoch 4, Batch 1800] loss: 0.116\n",
            "[Epoch 5, Batch 100] loss: 0.093\n",
            "[Epoch 5, Batch 200] loss: 0.091\n",
            "[Epoch 5, Batch 300] loss: 0.082\n",
            "[Epoch 5, Batch 400] loss: 0.088\n",
            "[Epoch 5, Batch 500] loss: 0.084\n",
            "[Epoch 5, Batch 600] loss: 0.102\n",
            "[Epoch 5, Batch 700] loss: 0.094\n",
            "[Epoch 5, Batch 800] loss: 0.108\n",
            "[Epoch 5, Batch 900] loss: 0.100\n",
            "[Epoch 5, Batch 1000] loss: 0.079\n",
            "[Epoch 5, Batch 1100] loss: 0.094\n",
            "[Epoch 5, Batch 1200] loss: 0.102\n",
            "[Epoch 5, Batch 1300] loss: 0.104\n",
            "[Epoch 5, Batch 1400] loss: 0.085\n",
            "[Epoch 5, Batch 1500] loss: 0.080\n",
            "[Epoch 5, Batch 1600] loss: 0.109\n",
            "[Epoch 5, Batch 1700] loss: 0.091\n",
            "[Epoch 5, Batch 1800] loss: 0.082\n",
            "Entraînement terminé\n"
          ]
        }
      ]
    },
    {
      "cell_type": "code",
      "source": [
        "correct = 0\n",
        "total = 0\n",
        "with torch.no_grad():\n",
        "    for data in testloader:\n",
        "        images, labels = data\n",
        "        outputs = model(images)\n",
        "        _, predicted = torch.max(outputs.data, 1)\n",
        "        total += labels.size(0)\n",
        "        correct += (predicted == labels).sum().item()\n",
        "\n",
        "print(f'Précision du réseau sur le jeu de test: {100 * correct / total:.2f}%')\n"
      ],
      "metadata": {
        "colab": {
          "base_uri": "https://localhost:8080/"
        },
        "id": "eBIOnLDdNj_F",
        "outputId": "f9f4b8f2-8e7d-4d66-9068-faabfb763c6d"
      },
      "execution_count": 6,
      "outputs": [
        {
          "output_type": "stream",
          "name": "stdout",
          "text": [
            "Précision du réseau sur le jeu de test: 96.39%\n"
          ]
        }
      ]
    }
  ]
}